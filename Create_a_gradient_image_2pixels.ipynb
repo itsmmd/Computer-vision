{
 "cells": [
  {
   "cell_type": "markdown",
   "metadata": {
    "notebookRunGroups": {
     "groupValue": "1"
    }
   },
   "source": [
    "Import Libraries"
   ]
  },
  {
   "cell_type": "markdown",
   "metadata": {
    "notebookRunGroups": {
     "groupValue": "2"
    }
   },
   "source": [
    "# Create a gradient image with two random colors by using the distance of two random pixels from each other\n",
    "tamrin(1) CV Mohammad Imanieh"
   ]
  },
  {
   "cell_type": "markdown",
   "metadata": {},
   "source": [
    "Import Libraries"
   ]
  },
  {
   "cell_type": "code",
   "execution_count": 6,
   "metadata": {},
   "outputs": [],
   "source": [
    "import cv2\n",
    "import numpy as np"
   ]
  },
  {
   "cell_type": "markdown",
   "metadata": {},
   "source": [
    "Define Image Dimensions\n"
   ]
  },
  {
   "cell_type": "code",
   "execution_count": 7,
   "metadata": {},
   "outputs": [],
   "source": [
    "width = 256 #عرض تصویر\n",
    "height = 256 #طول تصویر\n",
    "n_channels = 3 #تعداد کانال های رنگی "
   ]
  },
  {
   "cell_type": "markdown",
   "metadata": {},
   "source": [
    "The main function of creating a gradient image"
   ]
  },
  {
   "cell_type": "code",
   "execution_count": 8,
   "metadata": {},
   "outputs": [],
   "source": [
    "def create_gradient_image(pixel1, pixel2):\n",
    "    gradient_image = np.zeros((height, width, n_channels), dtype=np.uint8) #ساخت تصویر سیاه\n",
    "    x1, y1 = pixel1 \n",
    "    x2, y2 = pixel2\n",
    "    dx = x2 - x1\n",
    "    dy = y2 - y1\n",
    "    length = np.sqrt(dx**2 + dy**2) #محاسبه فاصله دو پیکسل انتخابی\n",
    "    for i in range(height):\n",
    "        for j in range(width):\n",
    "            distance = np.sqrt((i - x1)**2 + (j - y1)**2)  #محاسبه فاصله هر پیکسل از پیکسل انتخابی اول\n",
    "            ratio = min(distance / length, 1) #محاسبه نسبت فاصله به طول خط و اطمینان از اینکه نسبت بیشتر از 1 نشود\n",
    "            color = (20, int(255 * (1- ratio)) ,int(255 * ratio)) #تعیین رنگ هر پیکسل\n",
    "            gradient_image[i, j] = color\n",
    "    return gradient_image"
   ]
  },
  {
   "cell_type": "markdown",
   "metadata": {},
   "source": [
    "Function to receive input pixels"
   ]
  },
  {
   "cell_type": "code",
   "execution_count": 9,
   "metadata": {},
   "outputs": [],
   "source": [
    "def get_input():\n",
    "    while True:\n",
    "        #گرفتن پیکسل های ورودی\n",
    "        x1 = int(input(\"Enter x1: \"))\n",
    "        y1 = int(input(\"Enter y1: \"))\n",
    "        x2 = int(input(\"Enter x2: \"))\n",
    "        y2 = int(input(\"Enter y2: \"))\n",
    "        #شرط برای این که پیکسل انتخاب خارج از محدوده تصویر سیاه ما نباشد\n",
    "        if 0 <= x1 < width and 0 <= y1 < height and 0 <= x2 < width and 0 <= y2 < height:\n",
    "            return (x1, y1), (x2, y2)\n",
    "        else:\n",
    "            print(\"Coordinates must be within the image bounds (0 to 255). Please try again.\")"
   ]
  },
  {
   "cell_type": "markdown",
   "metadata": {},
   "source": [
    "Calling functions and displaying images"
   ]
  },
  {
   "cell_type": "code",
   "execution_count": 10,
   "metadata": {},
   "outputs": [
    {
     "name": "stdout",
     "output_type": "stream",
     "text": [
      "Coordinates must be within the image bounds (0 to 255). Please try again.\n"
     ]
    }
   ],
   "source": [
    "pixel1, pixel2 = get_input() #مقادیری را که تابع دریاف وردی بر میگرداند را در دو متغیر پیکسل میریزیم\n",
    "gradient_image = create_gradient_image(pixel1, pixel2) # مقداری را که تابع اصلی ساخت تصویر گرادیان بر میگرداند را در متغیر میریزیم\n",
    "cv2.imshow('Gradient Image', gradient_image) #سپس تصویر قرار گرفته متغیر را نمایش میدهیم\n",
    "cv2.waitKey(0)\n",
    "cv2.destroyAllWindows()"
   ]
  }
 ],
 "metadata": {
  "kernelspec": {
   "display_name": "Python 3",
   "language": "python",
   "name": "python3"
  },
  "language_info": {
   "codemirror_mode": {
    "name": "ipython",
    "version": 3
   },
   "file_extension": ".py",
   "mimetype": "text/x-python",
   "name": "python",
   "nbconvert_exporter": "python",
   "pygments_lexer": "ipython3",
   "version": "3.12.7"
  }
 },
 "nbformat": 4,
 "nbformat_minor": 2
}
